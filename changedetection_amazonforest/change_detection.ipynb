{
 "cells": [
  {
   "cell_type": "code",
   "execution_count": 1,
   "metadata": {},
   "outputs": [],
   "source": [
    "import os\n",
    "import cv2\n",
    "import rasterio\n",
    "import numpy as np\n",
    "from matplotlib import cm\n",
    "import matplotlib.pyplot as plt\n",
    "from shapely import geometry, ops\n",
    "from tqdm import tqdm\n",
    "from skimage.transform import resize\n",
    "import imageio"
   ]
  },
  {
   "cell_type": "code",
   "execution_count": 2,
   "metadata": {},
   "outputs": [],
   "source": [
    "def compute_ndvi(image):\n",
    "    red = image[0].astype(np.float32)\n",
    "    nir = image[3].astype(np.float32)\n",
    "\n",
    "    ndvi = np.clip((nir - red) / (nir + red + 1e-8), 0, 1)\n",
    "    return ndvi\n",
    "\n",
    "def load_tif(path_tif):\n",
    "    # Load image\n",
    "    tif = rasterio.open(path_tif)\n",
    "    img = tif.read()\n",
    "    tif.close()\n",
    "    #\n",
    "    image_bounds = list(tif.bounds)\n",
    "    image_poly = geometry.Polygon.from_bounds(*image_bounds)\n",
    "\n",
    "    return img, image_poly\n"
   ]
  },
  {
   "cell_type": "code",
   "execution_count": 3,
   "metadata": {},
   "outputs": [
    {
     "name": "stderr",
     "output_type": "stream",
     "text": [
      "100%|██████████| 7/7 [00:00<00:00, 57.65it/s]\n"
     ]
    }
   ],
   "source": [
    "filenames = sorted(os.listdir('./outputs/'))\n",
    "\n",
    "images = []\n",
    "for filename in tqdm(filenames):\n",
    "    image, poly = load_tif('./outputs/'+filename)\n",
    "    images.append(image.copy())"
   ]
  },
  {
   "cell_type": "code",
   "execution_count": 4,
   "metadata": {},
   "outputs": [],
   "source": [
    "# save animation\n",
    "height,width = image.shape[1:]\n",
    "\n",
    "\n",
    "images_out = []\n",
    "for i, im in enumerate(images):\n",
    "    im_out_8bit = (255*np.clip(np.moveaxis(im,0,-1)/3000,0,1)).astype(np.uint8)\n",
    "    im_out_8bit_resized = cv2.resize(im_out_8bit, (0, 0), fx=0.5, fy=0.5)\n",
    "#     im_out_8bit_resized = resize(im_out_8bit, (height//2,width//2,3) , order=3).astype(np.uint8)\n",
    "    cv2.putText(im_out_8bit_resized, filenames[i].split('.')[0], (20,620), cv2.FONT_HERSHEY_SIMPLEX, 1,(255,255,255),2,2)\n",
    "    images_out.append(im_out_8bit_resized)\n",
    "\n",
    "imageio.mimsave('images.gif', images_out, loop=0, duration=900)\n"
   ]
  },
  {
   "cell_type": "code",
   "execution_count": 5,
   "metadata": {},
   "outputs": [],
   "source": [
    "changemaps = []\n",
    "changemaps.append(np.zeros_like(images[0][0]))\n",
    "for i in range(1, len(images)):\n",
    "    ndvi1 = compute_ndvi(images[0])\n",
    "    ndvi2 = compute_ndvi(images[i])\n",
    "\n",
    "    threshold_low = 0.3\n",
    "    threshold_high = 0.95\n",
    "    threshold_change = -0.15\n",
    "\n",
    "    ndvi1[ndvi1 < threshold_low]  = np.nan  # old image: high values in savi\n",
    "    ndvi2[ndvi2 > threshold_high] = np.nan  # new image: low values in savi\n",
    "    changemap = ndvi2 - ndvi1\n",
    "    changemap[changemap > threshold_change] = np.nan\n",
    "    changemap = abs(np.nan_to_num(changemap))\n",
    "    changemaps.append(changemap.copy())"
   ]
  },
  {
   "cell_type": "code",
   "execution_count": 6,
   "metadata": {},
   "outputs": [],
   "source": [
    "changes_out = []\n",
    "for i, im in enumerate(changemaps):\n",
    "    im_out_8bit = (255*(cm.plasma(changemaps[i])[:,:,:3])).astype(np.uint8)\n",
    "    im_out_8bit_resized = cv2.resize(im_out_8bit, (0, 0), fx=0.5, fy=0.5)\n",
    "    cv2.putText(im_out_8bit_resized, filenames[i].split('.')[0], (20,620), cv2.FONT_HERSHEY_SIMPLEX, 1,(255,255,255),2,2)\n",
    "    changes_out.append(im_out_8bit_resized)\n",
    "\n",
    "imageio.mimsave('changes.gif', changes_out, loop=0, duration=900)\n"
   ]
  },
  {
   "cell_type": "code",
   "execution_count": null,
   "metadata": {},
   "outputs": [],
   "source": []
  }
 ],
 "metadata": {
  "kernelspec": {
   "display_name": "Python 3 (ipykernel)",
   "language": "python",
   "name": "python3"
  },
  "language_info": {
   "codemirror_mode": {
    "name": "ipython",
    "version": 3
   },
   "file_extension": ".py",
   "mimetype": "text/x-python",
   "name": "python",
   "nbconvert_exporter": "python",
   "pygments_lexer": "ipython3",
   "version": "3.8.10"
  }
 },
 "nbformat": 4,
 "nbformat_minor": 4
}
