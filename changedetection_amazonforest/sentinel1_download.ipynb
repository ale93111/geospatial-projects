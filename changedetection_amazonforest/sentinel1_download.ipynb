{
 "cells": [
  {
   "cell_type": "code",
   "execution_count": null,
   "id": "127ab707-41cd-455b-baea-1e114aeefb1a",
   "metadata": {},
   "outputs": [],
   "source": [
    "import pyproj\n",
    "\n",
    "import numpy as np\n",
    "import matplotlib.pyplot as plt\n",
    "from shapely import geometry, ops\n",
    "from datetime import datetime, timedelta\n",
    "\n",
    "from sentinelhub import SHConfig, BBox, CRS, SentinelHubRequest, DataCollection, MimeType, bbox_to_dimensions, SentinelHubCatalog, MosaickingOrder\n",
    "\n",
    "CLIENT_ID = ''\n",
    "CLIENT_SECRET = ''\n",
    "\n",
    "config = SHConfig()\n",
    "\n",
    "if CLIENT_ID and CLIENT_SECRET:\n",
    "    config.sh_client_id = CLIENT_ID\n",
    "    config.sh_client_secret = CLIENT_SECRET"
   ]
  },
  {
   "cell_type": "code",
   "execution_count": null,
   "id": "302f01f6-90a2-4918-a2d7-1cbe44288ffb",
   "metadata": {},
   "outputs": [],
   "source": [
    "region = {\"type\":\"Polygon\",\"coordinates\":[[[-66.481018,-8.885072],[-65.220337,-8.885072],[-65.220337,-10.052698],[-66.481018,-10.052698],[-66.481018,-8.885072]]]}\n",
    "region = geometry.shape(region)\n",
    "\n",
    "proj = pyproj.Transformer.from_crs(3857, 4326, always_xy=True)\n",
    "proj_inv = pyproj.Transformer.from_crs(4326, 3857, always_xy=True)\n",
    "region_wm = ops.transform(proj_inv.transform, region)\n"
   ]
  },
  {
   "cell_type": "code",
   "execution_count": null,
   "id": "82a9d165-493e-4f9f-b86b-7293a7713596",
   "metadata": {},
   "outputs": [],
   "source": [
    "n_years = 0\n",
    "\n",
    "date_end = datetime(2023, 5, 7)\n",
    "date_start = datetime(2023, 5, 7) - timedelta(days=n_years*365)\n",
    "date = date_start\n",
    "print(date.strftime(\"%Y-%m-%d\"))"
   ]
  },
  {
   "cell_type": "code",
   "execution_count": null,
   "id": "6e4adff9-8bf8-4f8e-8311-7a75b5165134",
   "metadata": {},
   "outputs": [],
   "source": [
    "print((date).strftime(\"%Y-%m-%d\"))"
   ]
  },
  {
   "cell_type": "code",
   "execution_count": null,
   "id": "a32f5e72-19eb-42db-9612-f46217109b59",
   "metadata": {},
   "outputs": [],
   "source": [
    "resolution = 100\n",
    "bbox = BBox(bbox=region.bounds, crs=CRS.WGS84)\n",
    "size = bbox_to_dimensions(bbox, resolution=resolution)\n",
    "\n",
    "print(f\"Image shape at {resolution} m resolution: {size} pixels\")\n",
    "\n"
   ]
  },
  {
   "cell_type": "code",
   "execution_count": null,
   "id": "5722b06f-cc85-47e8-bd3e-d4cb144ec31a",
   "metadata": {},
   "outputs": [],
   "source": [
    "# def get_s2_l2a(s2_bbox, s2_date, config):\n",
    "    # \"\"\" author: Alessandro \"\"\"\n",
    "evalscript_grd = \"\"\"//VERSION=3\n",
    "    function setup() {\n",
    "      return {\n",
    "        input: [{bands:[\"VV\", \"VH\"]}],\n",
    "        output: {\n",
    "                    bands: 2,\n",
    "                    sampleType: \"FLOAT32\"\n",
    "                }\n",
    "      };\n",
    "    }\n",
    "\n",
    "    function evaluatePixel(samples) {\n",
    "      return [samples.VV,\n",
    "              samples.VH];\n",
    "    }\n",
    "\"\"\"\n",
    "\n"
   ]
  },
  {
   "cell_type": "code",
   "execution_count": null,
   "id": "804775bd-91a8-4480-9915-1861cb3e6d7c",
   "metadata": {},
   "outputs": [],
   "source": [
    "request2 = SentinelHubRequest(\n",
    "    evalscript=evalscript_grd,\n",
    "    input_data=[\n",
    "        SentinelHubRequest.input_data(\n",
    "            data_collection=DataCollection.SENTINEL1_IW,\n",
    "            time_interval=[(date-timedelta(days=1)).strftime(\"%Y-%m-%d\"),(date+timedelta(days=9)).strftime(\"%Y-%m-%d\")],\n",
    "            mosaicking_order = MosaickingOrder.MOST_RECENT,\n",
    "            other_args={\"processing\": {\"orthorectify\": True, \"backCoeff\": \"GAMMA0_TERRAIN\"}},\n",
    "        )\n",
    "    ],\n",
    "    responses=[\n",
    "        SentinelHubRequest.output_response('default', MimeType.TIFF),\n",
    "        #SentinelHubRequest.output_response(\"userdata\", MimeType.JSON),\n",
    "    ],\n",
    "    bbox=bbox,\n",
    "    size=bbox_to_dimensions(bbox, resolution),\n",
    "    config=config\n",
    ")\n"
   ]
  },
  {
   "cell_type": "code",
   "execution_count": null,
   "id": "2fe8431b-e148-48c9-9027-cdac34989931",
   "metadata": {},
   "outputs": [],
   "source": [
    "MosaickingOrder.LEAST_RECENT"
   ]
  },
  {
   "cell_type": "code",
   "execution_count": null,
   "id": "da53e570-45a2-4ec7-b4d4-9b4082d5bcce",
   "metadata": {},
   "outputs": [],
   "source": [
    "request2.payload"
   ]
  },
  {
   "cell_type": "code",
   "execution_count": null,
   "id": "f30ae203-b14c-4bce-98ac-a67a75581f6a",
   "metadata": {},
   "outputs": [],
   "source": [
    "image = request2.get_data()[0]"
   ]
  },
  {
   "cell_type": "code",
   "execution_count": null,
   "id": "9ae82e40-9966-4cf8-982b-605ce87ac61c",
   "metadata": {},
   "outputs": [],
   "source": [
    "image.shape"
   ]
  },
  {
   "cell_type": "code",
   "execution_count": null,
   "id": "1effb9ff-3456-4d86-ae0c-35f5135ff7b6",
   "metadata": {},
   "outputs": [],
   "source": [
    "np.nanmax(image), np.nanmin(image)"
   ]
  },
  {
   "cell_type": "code",
   "execution_count": null,
   "id": "b27277a3-a347-4e4b-a528-7f5ab66d8369",
   "metadata": {},
   "outputs": [],
   "source": [
    "plt.imshow(image[:,:,0])"
   ]
  },
  {
   "cell_type": "code",
   "execution_count": null,
   "id": "a6cf7671-07c0-4293-9e92-851b3c8fa821",
   "metadata": {},
   "outputs": [],
   "source": [
    "import rasterio\n",
    "def save_tif(filename, image, poly, channels, crs, dtype='uint8', factor=1):\n",
    "    height, width = image.shape[1:]\n",
    "    geotiff_transform = rasterio.transform.from_bounds(poly.bounds[0], poly.bounds[1],\n",
    "                                                       poly.bounds[2], poly.bounds[3],\n",
    "                                                       width/factor, height/factor)\n",
    "\n",
    "    new_dataset = rasterio.open(filename, 'w', driver='GTiff',\n",
    "                                height=height/factor, width=width/factor,\n",
    "                                count=channels, dtype=dtype,\n",
    "                                crs=crs,\n",
    "                                transform=geotiff_transform)\n",
    "\n",
    "    # Write bands\n",
    "    for i in range(channels):\n",
    "        new_dataset.write(image[i],i+1)\n",
    "    new_dataset.close()\n",
    "    \n",
    "    return True"
   ]
  },
  {
   "cell_type": "code",
   "execution_count": null,
   "id": "643ac654-819e-4ea6-a1ff-7368cd5a0d08",
   "metadata": {},
   "outputs": [],
   "source": [
    "save_tif('./outputs_s1/'+str(date.year)+'.tif', np.nan_to_num(np.moveaxis(image,-1,0)), region_wm, channels=2, crs=3857,dtype='float32')\n"
   ]
  },
  {
   "cell_type": "code",
   "execution_count": null,
   "id": "24326237-7676-4c88-b84c-02e8f0a19691",
   "metadata": {},
   "outputs": [],
   "source": []
  },
  {
   "cell_type": "code",
   "execution_count": null,
   "id": "878c7301-7219-45a0-99ee-0e471b971574",
   "metadata": {},
   "outputs": [],
   "source": []
  }
 ],
 "metadata": {
  "kernelspec": {
   "display_name": "Python 3 (ipykernel)",
   "language": "python",
   "name": "python3"
  },
  "language_info": {
   "codemirror_mode": {
    "name": "ipython",
    "version": 3
   },
   "file_extension": ".py",
   "mimetype": "text/x-python",
   "name": "python",
   "nbconvert_exporter": "python",
   "pygments_lexer": "ipython3",
   "version": "3.8.10"
  }
 },
 "nbformat": 4,
 "nbformat_minor": 5
}
